{
 "cells": [
  {
   "cell_type": "markdown",
   "metadata": {},
   "source": [
    "# Lab 2: The Data Frame"
   ]
  },
  {
   "cell_type": "markdown",
   "metadata": {},
   "source": [
    "# PART 0: Meetings\n",
    "\n",
    "In this lab we will work with a (subset) of the [Million Songs Dataset](https://labrosa.ee.columbia.edu/millionsong/).\n",
    "\n",
    "The dataset contains information about many songs, artists, and their locations.  \n",
    "It is composed of three different data containers.  \n",
    "Each one of this containers is a **dataframe**, a particular way of storing and structuring data.  \n",
    "In R, dataframes are conveniently handled using the functions provided by the _tiyverse_ libraries, hence let's load them."
   ]
  },
  {
   "cell_type": "code",
   "execution_count": null,
   "metadata": {},
   "outputs": [],
   "source": [
    "library(tidyverse)"
   ]
  },
  {
   "cell_type": "markdown",
   "metadata": {},
   "source": [
    "What information are we getting here?\n",
    "\n",
    "The packages attached are the ones that tidyverse is loading for us, and whose functions we can call directly.\n",
    "\n",
    "There are, however, some \"conflicts\": we loaded some packages (in this case \"dplyr\" and \"stats\", which is there always when you start R) that define functions with the same name (`filter()` and `lag()`). As for R specifications, if we call a function loaded by two packages, and do not explicitly say which one to use, the one defined in the latter loaded package will be used. In this case, as we loaded dplyr (through tidyverse) after stats, if we use `filter()` we are going to use dplyr's filter.\n",
    "\n",
    "What if we wanted to use another same named function? Well, in that case we would need to specify the package. We can do it by prepending `name_of_wanted_package::` to the function. In this case, if we wanted stats' version of `filter()`, we would need to write `stats::filter()` (see also the package [conflicted](https://github.com/r-lib/conflicted) for a different way of handling this problem)\n",
    "\n",
    "#### Now we have to get the data.  \n",
    "The dataset is convienently stored in a _github repository_, which is publicly accessible online, and is presented as a R package, so we don't need to worry about how to read it in R.  \n",
    "\n",
    "To get it, we can use the `install_github()` function, available throught the `devtools` library."
   ]
  },
  {
   "cell_type": "code",
   "execution_count": null,
   "metadata": {},
   "outputs": [],
   "source": [
    "remotes::install_github(\"JoeyBernhardt/singer\")"
   ]
  },
  {
   "cell_type": "markdown",
   "metadata": {},
   "source": [
    "Now use the `library()` function to load it."
   ]
  },
  {
   "cell_type": "code",
   "execution_count": null,
   "metadata": {},
   "outputs": [],
   "source": [
    "library(singer)"
   ]
  },
  {
   "cell_type": "markdown",
   "metadata": {},
   "source": [
    "We can obtain a quick overview of what dataset are now available via `singer` using the `data()` function.  "
   ]
  },
  {
   "cell_type": "code",
   "execution_count": null,
   "metadata": {},
   "outputs": [],
   "source": [
    "data(package = \"singer\")"
   ]
  },
  {
   "cell_type": "markdown",
   "metadata": {},
   "source": [
    "These are the dataset available, but to use them we need to load them in the memory.  \n",
    "We use `data()` to load in memory one of those datasets.  "
   ]
  },
  {
   "cell_type": "code",
   "execution_count": null,
   "metadata": {},
   "outputs": [],
   "source": [
    "data(singer_locations)"
   ]
  },
  {
   "cell_type": "markdown",
   "metadata": {},
   "source": [
    "# PART 1: introductions"
   ]
  },
  {
   "cell_type": "markdown",
   "metadata": {},
   "source": [
    "Let's have a look at what's in the dataset. But let's play safe: we don't know how big it is and we don't want to print to screen too much stuff.  \n",
    "So, how many rows of data we have?"
   ]
  },
  {
   "cell_type": "code",
   "execution_count": null,
   "metadata": {},
   "outputs": [],
   "source": [
    "singer_locations %>%\n",
    "  nrow()"
   ]
  },
  {
   "cell_type": "markdown",
   "metadata": {},
   "source": [
    "And how many columns?  \n",
    "The function we are going to use is `ncol()` (_**n**umber of **col**umns_).  \n",
    "Use the pipe (`%>%`) and `ncol()` to discover how many columns are there in `singer_locations`"
   ]
  },
  {
   "cell_type": "code",
   "execution_count": null,
   "metadata": {},
   "outputs": [],
   "source": [
    "singer_locations # your code goes here"
   ]
  },
  {
   "cell_type": "markdown",
   "metadata": {},
   "source": [
    "We can use `head()`, `tail()` or the beautiful `glimpse()` to peek at the dataset."
   ]
  },
  {
   "cell_type": "code",
   "execution_count": null,
   "metadata": {},
   "outputs": [],
   "source": [
    "singer_locations %>%\n",
    "  head()"
   ]
  },
  {
   "cell_type": "markdown",
   "metadata": {},
   "source": [
    "Try your hand with `tail()` and `glimpse()`."
   ]
  },
  {
   "cell_type": "code",
   "execution_count": null,
   "metadata": {},
   "outputs": [],
   "source": [
    "# your code goes here"
   ]
  },
  {
   "cell_type": "markdown",
   "metadata": {},
   "source": [
    "### Reflection time\n",
    "**Q** What information about the _structure_ of `singer_locations` could you grasp from glimpsing?"
   ]
  },
  {
   "cell_type": "markdown",
   "metadata": {},
   "source": [
    "## Selecting"
   ]
  },
  {
   "cell_type": "markdown",
   "metadata": {},
   "source": [
    "Sometimes we don't want to see all the columns of a dataframe, but just a few or one. That is possible using the `select()` function. Let's see how it works."
   ]
  },
  {
   "cell_type": "code",
   "execution_count": null,
   "metadata": {},
   "outputs": [],
   "source": [
    "singer_locations %>%\n",
    "  select(title) %>% # let's see only the title column\n",
    "  head() # and just a few rows"
   ]
  },
  {
   "cell_type": "markdown",
   "metadata": {},
   "source": [
    "fill in the following code to show only a coupld of `artist_name`:"
   ]
  },
  {
   "cell_type": "code",
   "execution_count": null,
   "metadata": {},
   "outputs": [],
   "source": [
    "singer_Locations %>%\n",
    "  select(___) %>%\n",
    "  head()"
   ]
  },
  {
   "cell_type": "markdown",
   "metadata": {},
   "source": [
    "Moreover, tidyverse (specifically, dplyr) offers you helper functions to select some column, for example:"
   ]
  },
  {
   "cell_type": "code",
   "execution_count": null,
   "metadata": {},
   "outputs": [],
   "source": [
    "singer_locations %>%\n",
    "  select(ends_with(\"id\")) %>% # let's see only the columns which names ends with \"id\"\n",
    "  head()"
   ]
  },
  {
   "cell_type": "code",
   "execution_count": null,
   "metadata": {},
   "outputs": [],
   "source": [
    "singer_locations %>%\n",
    "  select(track_id : artist_id) %>% # let's see only the columns between track_id and artist_id\n",
    "  head()"
   ]
  },
  {
   "cell_type": "markdown",
   "metadata": {},
   "source": [
    "And we can also decide which columns NOT to have:"
   ]
  },
  {
   "cell_type": "code",
   "execution_count": null,
   "metadata": {},
   "outputs": [],
   "source": [
    "singer_locations %>%\n",
    "  select(-ends_with(\"id\")) %>% # let's drop the \"id\" columns\n",
    "  head()"
   ]
  },
  {
   "cell_type": "markdown",
   "metadata": {},
   "source": [
    "## Plot, listen, 3D print, ...\n",
    "\n",
    "Identifying the presence of regularities or irregularities in the data by simply reading the values in a dataset is difficult. Not impossible, and sometime you need to do it.   Visual, audio, ..., representations of data leverage on the human ability to parse information. Thus, let's use those representations as often as we can.\n",
    "\n",
    "(Unfortunately) visual representations are much more supported than any other expressive means (at least in R and many other programming language).  \n",
    "So, let's get artistic. Here I will focus on plotting data, but if visual is not for you come talk with me and we can find a solution."
   ]
  },
  {
   "cell_type": "markdown",
   "metadata": {},
   "source": [
    "One of the first packages we see is called `skimr` (more infor [here](https://github.com/ropensci/skimr) )"
   ]
  },
  {
   "cell_type": "code",
   "execution_count": null,
   "metadata": {},
   "outputs": [],
   "source": [
    "remotes::install_github(\"ropenscilabs/skimr\")"
   ]
  },
  {
   "cell_type": "code",
   "execution_count": null,
   "metadata": {},
   "outputs": [],
   "source": [
    "library(skimr)"
   ]
  },
  {
   "cell_type": "markdown",
   "metadata": {},
   "source": [
    "The main function is called `skim()`.  \n",
    "Warning: it will spit out a lot of text, especially if your dataset has many columns..."
   ]
  },
  {
   "cell_type": "code",
   "execution_count": null,
   "metadata": {},
   "outputs": [],
   "source": [
    "singer_locations %>%\n",
    "  skim()"
   ]
  },
  {
   "cell_type": "markdown",
   "metadata": {},
   "source": [
    "Uuuh, we have a LOT of information there, and it is not very easy to read it.  \n",
    "Luckily, `skimr` has a hand function, `kable()`, that organise that information into a more compact format."
   ]
  },
  {
   "cell_type": "code",
   "execution_count": null,
   "metadata": {},
   "outputs": [],
   "source": [
    "singer_locations %>%\n",
    "  skim() %>%\n",
    "  kable()"
   ]
  },
  {
   "cell_type": "markdown",
   "metadata": {},
   "source": [
    "Ok, there's a lot to unpack here.\n",
    "\n",
    "Each row in the tables describes a column of the dataframe.\n",
    "\n",
    "Let's see what some of these descriptors mean:\n",
    "\n",
    "- **missing**/**complete**: the amount of rows having values that R recognise as \"missing\" / the amount of rows having non-missing values\n",
    "- **n**: the total amount of rows \n",
    "- **min**/**max**: the minimal and maximal number of characters\n",
    "- **n_unique**: the number of unique values\n",
    "- **mean**, **sd**, **p0**, **p25**, **p50**, **p100**: statistical descriptors of the values distribution\n",
    "- **hist**: an histogram of the values"
   ]
  },
  {
   "cell_type": "markdown",
   "metadata": {},
   "source": [
    "### Quiz Time\n",
    "\n",
    "**warm up**\n",
    "- How many cities are present in the dataframe?\n",
    "- How many different song titles?\n",
    "- How old is the newest song?\n",
    "\n",
    "**handle with care**\n",
    "- How old is the oldest song?\n",
    "- How many artists?"
   ]
  },
  {
   "cell_type": "markdown",
   "metadata": {},
   "source": [
    "> your answer here"
   ]
  },
  {
   "cell_type": "markdown",
   "metadata": {},
   "source": [
    "### Reflection time\n",
    "\n",
    "The 14 columns in `singer_locations` have been organised into three groups:  \n",
    "- **character**: this is stuff containing \"text\", \"words\" and similar\n",
    "- **integer**: this is stuff that is expressed as wholesome integers (42, 1984, 38, -4, ...)\n",
    "- **numeric**: this is stuff that is express by numbers with some amount of digits (3.14, 1.67, 0.33333, ...)\n",
    "\n",
    "**Q** Why do you think `skim()` summarise those differently?"
   ]
  },
  {
   "cell_type": "markdown",
   "metadata": {},
   "source": [
    "> your answer here"
   ]
  },
  {
   "cell_type": "markdown",
   "metadata": {},
   "source": [
    "Well, the visualization here was quite limited (just a tiny histogram), but already we have a deeper understanding of our data source.  \n",
    "Let's get more visual, with `visdat` (see [here](https://github.com/ropensci/visdat) for more details)."
   ]
  },
  {
   "cell_type": "code",
   "execution_count": null,
   "metadata": {},
   "outputs": [],
   "source": [
    "remotes::install_github(\"ropensci/visdat\")"
   ]
  },
  {
   "cell_type": "code",
   "execution_count": null,
   "metadata": {},
   "outputs": [],
   "source": [
    "library(visdat)"
   ]
  },
  {
   "cell_type": "markdown",
   "metadata": {},
   "source": [
    "The library `visdat` has been developed by Nicholas Tierney and others to give quick access to usefull preliminary visualization of dataframes.  \n",
    "We read that we have some missing values in our dataframe. Let's have a look:"
   ]
  },
  {
   "cell_type": "code",
   "execution_count": null,
   "metadata": {},
   "outputs": [],
   "source": [
    "singer_locations %>%\n",
    "  vis_miss()"
   ]
  },
  {
   "cell_type": "markdown",
   "metadata": {},
   "source": [
    "From the visualisation, it appears that the missing values are all from the same rows. How \"big\" is that blog of missingness?\n",
    "We can set the option (technically an _argument_) `cluster` to `TRUE` to show it."
   ]
  },
  {
   "cell_type": "code",
   "execution_count": null,
   "metadata": {},
   "outputs": [],
   "source": [
    "singer_locations %>%\n",
    "  vis_miss(cluster = TRUE)"
   ]
  },
  {
   "cell_type": "markdown",
   "metadata": {},
   "source": [
    "That's a large chunck, isn't it?"
   ]
  },
  {
   "cell_type": "markdown",
   "metadata": {},
   "source": [
    "# PART 2: verbs"
   ]
  },
  {
   "cell_type": "markdown",
   "metadata": {},
   "source": [
    "Enough preliminaries, we want to plot! And do stuff!\n",
    "\n",
    "Sure enough, there you go!"
   ]
  },
  {
   "cell_type": "code",
   "execution_count": null,
   "metadata": {},
   "outputs": [],
   "source": [
    "singer_locations %>% # this will define where we get the data from\n",
    "  ggplot( # we are using the ggplot2 library (it's been loaded together with tidyverse)\n",
    "  mapping = # the mapping defines how the features of the data frame will be placed on the drawing area\n",
    "      aes( # aes stands for aesthetics: this are the visual properties of the graph\n",
    "      x = artist_hotttnesss, # we want the \"artist_hotttnesss\" on the x\n",
    "      y = artist_familiarity)) + # and the \"artist_familiarity\" on the y\n",
    "  geom_point() # plotted as points"
   ]
  },
  {
   "cell_type": "markdown",
   "metadata": {},
   "source": [
    "We build this plots using what is known as _grammar of graphs_. Let's see a couple more examples.\n",
    "\n",
    "What about a song \"duration\"? Are hot songs more or less long? Let's see.  \n",
    "We can reuse the same code template, and just change the _variables_ we are going to plot on x and y:"
   ]
  },
  {
   "cell_type": "code",
   "execution_count": null,
   "metadata": {},
   "outputs": [],
   "source": [
    "singer_locations %>% # this will define where we get the data from\n",
    "  ggplot(mapping = aes( # aes stands for aesthetics: this are the visual properties of the graph\n",
    "      x = duration, # we want the \"duration\" on the x\n",
    "      y = artist_hotttnesss)) + # and the \"artist_familiarity\" on the y\n",
    "  geom_point() # plotted as points"
   ]
  },
  {
   "cell_type": "markdown",
   "metadata": {},
   "source": [
    "Your turn now. Modify the following code to plot some other variable."
   ]
  },
  {
   "cell_type": "code",
   "execution_count": null,
   "metadata": {},
   "outputs": [],
   "source": [
    "singer_locations %>%\n",
    "  ggplot(mapping = aes(x = , # your x variable\n",
    "      y = )) + # your y variable\n",
    "  geom_point() # plotted as points"
   ]
  },
  {
   "cell_type": "markdown",
   "metadata": {},
   "source": [
    "We are not limited to only x and y, we have many possible aesthetics to play with: colors, groupings, sizes, alpha (transparencies), shapes, ...\n",
    "\n",
    "The world is yours to paint! Let's add some colour!"
   ]
  },
  {
   "cell_type": "code",
   "execution_count": null,
   "metadata": {},
   "outputs": [],
   "source": [
    "singer_locations %>%\n",
    "  ggplot(mapping = aes(x = artist_hotttnesss, # your x variable\n",
    "      y = duration,\n",
    "      colour = artist_familiarity)) + # your y variable\n",
    "  geom_point() # plotted as points"
   ]
  },
  {
   "cell_type": "markdown",
   "metadata": {},
   "source": [
    "We do also have different geometries (points, lines, histograms, ...) that you can start to play with.  \n",
    "We will see them more in details in the next lectures. If you can't wait, the chapter on [Data Visualization](http://r4ds.had.co.nz/data-visualisation.html) in Hadley's R for Data Science is a great resource."
   ]
  },
  {
   "cell_type": "markdown",
   "metadata": {},
   "source": [
    "Now, let's do a good one: did the duration of songs increased or decreased in time? Let's have a look?  \n",
    "Plot the year on the x axis and the duration on the y axis (_hint_: copy the code from the previous cells and modify it accordingly)."
   ]
  },
  {
   "cell_type": "code",
   "execution_count": null,
   "metadata": {},
   "outputs": [],
   "source": [
    "# your code here"
   ]
  },
  {
   "cell_type": "markdown",
   "metadata": {},
   "source": [
    "Mmm, what happened? Something doesn't look right?  \n",
    "\n",
    "Oh, sure, it's those pesky \"0\" years. The missing years have not been labelled properly, but just inputted as zeros.  \n",
    "What now?  \n",
    "\n",
    "Don't worry, we have more than one way of dealing with that, using `filter()`ing and `mutate()`ing functions.\n",
    "\n",
    "`filter()` is a function that allows to drop some rows, based on a user defined rule.\n",
    "`mutate()` allows to change the values in a dataframe according to a user defined rule.\n",
    "\n",
    "Let's start with `filter()` to get only the Black Sabbath songs."
   ]
  },
  {
   "cell_type": "code",
   "execution_count": null,
   "metadata": {},
   "outputs": [],
   "source": [
    "singer_locations %>%\n",
    "  filter(artist_name == \"Black Sabbath\")"
   ]
  },
  {
   "cell_type": "markdown",
   "metadata": {},
   "source": [
    "Those are good songs. Good good. But maybe you like something else?\n",
    "\n",
    "Try and use `filter()` to filter out some songs from artists you like."
   ]
  },
  {
   "cell_type": "code",
   "execution_count": null,
   "metadata": {},
   "outputs": [],
   "source": [
    "# your code here"
   ]
  },
  {
   "cell_type": "markdown",
   "metadata": {},
   "source": [
    "So, what if we want more than one artists? Can't we like Black Sabbath AND Justin Timberlake?  \n",
    "Yes you can, and we won't judge you!"
   ]
  },
  {
   "cell_type": "code",
   "execution_count": null,
   "metadata": {},
   "outputs": [],
   "source": [
    "singer_locations %>%\n",
    "  filter(artist_name %in% c(\"Black Sabbath\", \"Justin Timberlake\"))"
   ]
  },
  {
   "cell_type": "markdown",
   "metadata": {},
   "source": [
    "Let's break it down a moment: we defined a _vector_ containing the strings \"Black Sabbath\" and \"Justin Timberlake\" using the concatenation function `c()`; and we asked whether the `artist_name` in that row is in that vector.  \n",
    "In the tidyverse there are a bunch of verbs as `%in%` that allows you to ask this sort of questions."
   ]
  },
  {
   "cell_type": "markdown",
   "metadata": {},
   "source": [
    "But let's go back to the year ~ duration thingy. Our plot is ruined by the 0 years. Let's filter those out!  \n",
    "Write the right expression instead of the ___ underscores.  \n",
    "You can use != (that means \"different from\", \"not equal\") or > (that stands for \"greater than\")."
   ]
  },
  {
   "cell_type": "code",
   "execution_count": null,
   "metadata": {},
   "outputs": [],
   "source": [
    "singer_locations %>%\n",
    "  filter(year %in% 1970:1990) %>%\n",
    "    ggplot(mapping = aes(x = year, y = duration)) +\n",
    "  geom_point() "
   ]
  },
  {
   "cell_type": "markdown",
   "metadata": {},
   "source": [
    "We can stack more than one `filter()` condition, for example:"
   ]
  },
  {
   "cell_type": "code",
   "execution_count": null,
   "metadata": {},
   "outputs": [],
   "source": [
    "singer_locations %>%\n",
    "  filter(year > 1950, year < 1980, artist_hotttnesss > 0.7) %>%\n",
    "    ggplot(mapping = aes(x = year, y = duration)) +\n",
    "  geom_point() "
   ]
  },
  {
   "cell_type": "markdown",
   "metadata": {},
   "source": [
    "The other way we could this is by using `mutate()`. The core idea here is to solve the task by correcting the 0s into missing values.\n",
    "\n",
    "Thinking like a computer, we need a rule (not a rule of thumb ;-) ). The rule is that,\n",
    "we look at the `year`,  \n",
    "if the `year` is equal to 0, we mutate its value to a proper missing (namely, `NA_integer_`, where NA stands for missing and \\_integer\\_ informs R about the type of the missing)  \n",
    "and else (if `year` is NOT equal to 0), we leave as it is.\n",
    "\n",
    "The tidyverse function doing the job is called `if_else()`, and it requires 3 arguments:  \n",
    "the first is the \"if condition\" (`year == 0`)  \n",
    "the second is the value to mutate to if the condition is satisfied,  \n",
    "the third is the value to mutate to if the condition is not satisfied."
   ]
  },
  {
   "cell_type": "code",
   "execution_count": null,
   "metadata": {},
   "outputs": [],
   "source": [
    "singer_locations %>% # our starting point\n",
    "  mutate( # we want to modify or create variables\n",
    "      year_no_0 = # we create a new one\n",
    "      if_else(year == 0, # if year is zero\n",
    "              NA_integer_, # code it missing\n",
    "              year)) %>% # else leave it as it is\n",
    "  ggplot(mapping = aes(x = year_no_0, y = duration)) +\n",
    "  geom_point() "
   ]
  },
  {
   "cell_type": "markdown",
   "metadata": {},
   "source": [
    "With `mutate()` we can either create new columns or modify existing ones. For example, let's create an index of popularity for bands that is the sum of `artist_familiarity` and `artist_hotttnesss`."
   ]
  },
  {
   "cell_type": "code",
   "execution_count": null,
   "metadata": {},
   "outputs": [],
   "source": [
    "singer_locations %>%\n",
    "  mutate(artist_popularity = artist_familiarity + artist_hotttnesss) %>%\n",
    "  head()"
   ]
  },
  {
   "cell_type": "markdown",
   "metadata": {},
   "source": [
    "You can create an index of artist coldness that is the complementary of the the `artist_hotttnesss` (that is, `1 - artist_hotttnesss`).  "
   ]
  },
  {
   "cell_type": "code",
   "execution_count": null,
   "metadata": {},
   "outputs": [],
   "source": [
    "# your code here"
   ]
  },
  {
   "cell_type": "markdown",
   "metadata": {},
   "source": [
    "## CHALLENGE!"
   ]
  },
  {
   "cell_type": "markdown",
   "metadata": {},
   "source": [
    "Challenges are harder exercises that require you to explore functionality outside what I explicitly introduced.  \n",
    "\n",
    "This round the challenge is:\n",
    "\n",
    "**produce a dataframe of the top 20 artist_names, arranged by popularity**\n",
    "\n",
    "To solve this you will need to discover 2 new functions: take a look at the \"Subset Observations (Rows)\" block in the dplyr [cheatsheet](https://www.rstudio.com/wp-content/uploads/2015/02/data-wrangling-cheatsheet.pdf)."
   ]
  },
  {
   "cell_type": "markdown",
   "metadata": {},
   "source": [
    "# PART 3: your turn"
   ]
  },
  {
   "cell_type": "markdown",
   "metadata": {},
   "source": [
    "Now it's your turn. After the warmup above, let's use a different dataframe, `gapminder` and make some initial explorations, taking care of missing values and produce some plot.  "
   ]
  },
  {
   "cell_type": "markdown",
   "metadata": {},
   "source": [
    "Play around with the `starwars` dataframe, containing information about Starwars characters, and see if you can reproduce some of the preliminary explorations and manipulations we did together."
   ]
  },
  {
   "cell_type": "markdown",
   "metadata": {},
   "source": [
    "# APPENDIX: under the hood"
   ]
  },
  {
   "cell_type": "markdown",
   "metadata": {},
   "source": [
    "## The Dataframe under the hood\n",
    "\n",
    "We said before that the data in `singer` is structured as a **dataframe**. Can we check that?  \n",
    "Sure we can. We can use `typof()`, `mode()`, and `class()` to see what kind of stuff we are dealing with in R.  \n",
    "We will talk more about this in a future lecture, for the moment just try to apply the three function to `singer_locations`."
   ]
  },
  {
   "cell_type": "code",
   "execution_count": null,
   "metadata": {},
   "outputs": [],
   "source": [
    "singer_locations %>%\n",
    "  class()"
   ]
  },
  {
   "cell_type": "code",
   "execution_count": null,
   "metadata": {},
   "outputs": [],
   "source": [
    "# your code goes here"
   ]
  },
  {
   "cell_type": "markdown",
   "metadata": {},
   "source": [
    "We discovered a couple of things.\n",
    "\n",
    "The dataset `singer_locations` is a `data.frame`, a `tbl`, and a `tbl_df`.  \n",
    "What's all that? `data.frame` is the basic R structure for dataframes, `tbl` and `tbl_df` are a special version of dataframes, defined within the tidyverse, that are called **tibbles**. A tibble is a dataframe that needs to satisfiy some extra constraint: take a look [here](http://r4ds.had.co.nz/tibbles.html#tibbles-vs.data.frame) to an overview of the differences if you are supercurious.\n",
    "\n",
    "Moreover, the type and mode of `singer_locations` is `list`. A `list` is a basic data structure in R. Under the hood, dataframes (and tibbles) are lists of columns, and each column is a `vector` of some kind (numeric, character, ...); all the columns in a dataframe **must** have the same length."
   ]
  }
 ],
 "metadata": {
  "kernelspec": {
   "display_name": "R",
   "language": "R",
   "name": "ir"
  },
  "language_info": {
   "codemirror_mode": "r",
   "file_extension": ".r",
   "mimetype": "text/x-r-source",
   "name": "R",
   "pygments_lexer": "r",
   "version": "3.6.3"
  }
 },
 "nbformat": 4,
 "nbformat_minor": 4
}
